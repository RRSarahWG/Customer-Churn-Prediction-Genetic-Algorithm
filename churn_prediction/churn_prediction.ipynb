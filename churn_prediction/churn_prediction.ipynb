{
 "cells": [
  {
   "cell_type": "markdown",
   "id": "417530d4",
   "metadata": {},
   "source": [
    "# Customer Churn Prediction using Genetic Algorithm for Feature Selection\n",
    "\n",
    "This notebook implements a customer churn prediction system for a telecom company using Genetic Algorithm (GA) for feature selection. The implementation includes:\n",
    "\n",
    "1. Data preprocessing and analysis\n",
    "2. Feature engineering and selection using GA\n",
    "3. Model development and evaluation\n",
    "4. Performance comparison between GA-optimized and baseline models\n",
    "\n",
    "## Setup and Dependencies"
   ]
  },
  {
   "cell_type": "code",
   "execution_count": null,
   "id": "5920b56d",
   "metadata": {},
   "outputs": [],
   "source": [
    "# Import required libraries\n",
    "import numpy as np\n",
    "import pandas as pd\n",
    "import matplotlib.pyplot as plt\n",
    "import seaborn as sns\n",
    "from sklearn.model_selection import train_test_split, cross_val_score\n",
    "from sklearn.preprocessing import StandardScaler, LabelEncoder\n",
    "from sklearn.linear_model import LogisticRegression\n",
    "from sklearn.metrics import accuracy_score, classification_report, confusion_matrix, roc_curve, auc\n",
    "import warnings\n",
    "warnings.filterwarnings('ignore')\n",
    "\n",
    "# Import our custom module\n",
    "from churn_predictor import ChurnPredictor, GeneticFeatureSelector, plot_results"
   ]
  },
  {
   "cell_type": "markdown",
   "id": "c9e65440",
   "metadata": {},
   "source": [
    "## 1. Data Loading and Preprocessing\n",
    "\n",
    "We'll use the Telco Customer Churn dataset, which contains information about:\n",
    "- Customer demographics (gender, age range, marital status)\n",
    "- Account information (tenure, contract type, payment method)\n",
    "- Services signed up for (phone, internet, online security, etc.)\n",
    "- Usage patterns\n",
    "- Churn status\n",
    "\n",
    "First, let's load and examine the data:"
   ]
  },
  {
   "cell_type": "code",
   "execution_count": null,
   "id": "9319ce43",
   "metadata": {},
   "outputs": [],
   "source": [
    "# Load the dataset\n",
    "df = pd.read_csv('https://raw.githubusercontent.com/IBM/telco-customer-churn-on-icp4d/master/data/Telco-Customer-Churn.csv')\n",
    "\n",
    "# Display basic information about the dataset\n",
    "print(\"Dataset Info:\")\n",
    "print(\"-\" * 50)\n",
    "print(df.info())\n",
    "print(\"\\nSample of the data:\")\n",
    "print(\"-\" * 50)\n",
    "display(df.head())\n",
    "print(\"\\nMissing values:\")\n",
    "print(\"-\" * 50)\n",
    "print(df.isnull().sum())"
   ]
  },
  {
   "cell_type": "markdown",
   "id": "577193a8",
   "metadata": {},
   "source": [
    "## 2. Exploratory Data Analysis\n",
    "\n",
    "Let's analyze the data distribution and relationships between features:"
   ]
  },
  {
   "cell_type": "code",
   "execution_count": null,
   "id": "10db63c3",
   "metadata": {},
   "outputs": [],
   "source": [
    "# Analyze churn distribution\n",
    "plt.figure(figsize=(8, 5))\n",
    "sns.countplot(data=df, x='Churn')\n",
    "plt.title('Distribution of Customer Churn')\n",
    "plt.show()\n",
    "\n",
    "# Analyze numerical features\n",
    "numerical_features = ['tenure', 'MonthlyCharges', 'TotalCharges']\n",
    "fig, axes = plt.subplots(1, 3, figsize=(15, 5))\n",
    "for i, feature in enumerate(numerical_features):\n",
    "    sns.boxplot(data=df, x='Churn', y=feature, ax=axes[i])\n",
    "    axes[i].set_title(f'{feature} by Churn Status')\n",
    "plt.tight_layout()\n",
    "plt.show()\n",
    "\n",
    "# Analyze categorical features\n",
    "categorical_features = ['InternetService', 'Contract', 'PaymentMethod']\n",
    "fig, axes = plt.subplots(1, 3, figsize=(15, 5))\n",
    "for i, feature in enumerate(categorical_features):\n",
    "    sns.countplot(data=df, x=feature, hue='Churn', ax=axes[i])\n",
    "    axes[i].tick_params(axis='x', rotation=45)\n",
    "plt.tight_layout()\n",
    "plt.show()"
   ]
  },
  {
   "cell_type": "markdown",
   "id": "595ac952",
   "metadata": {},
   "source": [
    "## 3. Data Preprocessing\n",
    "\n",
    "Now let's preprocess the data using our ChurnPredictor class:"
   ]
  },
  {
   "cell_type": "code",
   "execution_count": null,
   "id": "be24011c",
   "metadata": {},
   "outputs": [],
   "source": [
    "# Initialize the ChurnPredictor\n",
    "predictor = ChurnPredictor(random_state=42)\n",
    "\n",
    "# Preprocess the data\n",
    "X, y = predictor.preprocess_data(df)\n",
    "\n",
    "print(\"Preprocessed data shape:\", X.shape)\n",
    "print(\"Number of features:\", len(predictor.feature_names))\n",
    "print(\"\\nFeature names:\")\n",
    "for i, name in enumerate(predictor.feature_names):\n",
    "    print(f\"{i+1}. {name}\")"
   ]
  },
  {
   "cell_type": "markdown",
   "id": "ef495373",
   "metadata": {},
   "source": [
    "## 4. Train Baseline Model\n",
    "\n",
    "Let's first train a baseline model using all features to establish a benchmark:"
   ]
  },
  {
   "cell_type": "code",
   "execution_count": null,
   "id": "82d352e9",
   "metadata": {},
   "outputs": [],
   "source": [
    "# Split the data\n",
    "X_train, X_test, y_train, y_test = train_test_split(X, y, test_size=0.2, random_state=42)\n",
    "\n",
    "# Train baseline model\n",
    "baseline_model = LogisticRegression(random_state=42, max_iter=1000)\n",
    "baseline_model.fit(X_train, y_train)\n",
    "\n",
    "# Evaluate baseline model\n",
    "baseline_pred = baseline_model.predict(X_test)\n",
    "baseline_accuracy = accuracy_score(y_test, baseline_pred)\n",
    "\n",
    "print(\"Baseline Model Performance:\")\n",
    "print(\"-\" * 50)\n",
    "print(f\"Accuracy: {baseline_accuracy:.4f}\")\n",
    "print(\"\\nClassification Report:\")\n",
    "print(classification_report(y_test, baseline_pred))"
   ]
  },
  {
   "cell_type": "markdown",
   "id": "8271f19f",
   "metadata": {},
   "source": [
    "## 5. Genetic Algorithm Feature Selection\n",
    "\n",
    "Now let's use the Genetic Algorithm to select the most important features:"
   ]
  },
  {
   "cell_type": "code",
   "execution_count": null,
   "id": "fd61a540",
   "metadata": {},
   "outputs": [],
   "source": [
    "# Set GA parameters\n",
    "ga_params = {\n",
    "    'population_size': 50,\n",
    "    'generations': 30,\n",
    "    'mutation_rate': 0.1,\n",
    "    'elite_size': 2,\n",
    "    'tournament_size': 3,\n",
    "    'random_state': 42\n",
    "}\n",
    "\n",
    "# Train model with GA feature selection\n",
    "results, fitness_history = predictor.train(X, y, ga_params)\n",
    "\n",
    "print(\"Genetic Algorithm Results:\")\n",
    "print(\"-\" * 50)\n",
    "print(f\"Number of selected features: {results['n_selected_features']}\")\n",
    "print(f\"Best fitness score: {results['best_fitness']:.4f}\")\n",
    "print(\"\\nSelected features:\")\n",
    "for feature in results['selected_features']:\n",
    "    print(f\"- {feature}\")\n",
    "\n",
    "# Create a chromosome with only selected features\n",
    "selected_features = np.zeros(X.shape[1])\n",
    "for feature in results['selected_features']:\n",
    "    idx = predictor.feature_names.index(feature)\n",
    "    selected_features[idx] = 1"
   ]
  },
  {
   "cell_type": "markdown",
   "id": "4266e719",
   "metadata": {},
   "source": [
    "## 6. Model Evaluation\n",
    "\n",
    "Let's evaluate the performance of our GA-optimized model and compare it with the baseline:"
   ]
  },
  {
   "cell_type": "code",
   "execution_count": null,
   "id": "a797752b",
   "metadata": {},
   "outputs": [],
   "source": [
    "# Evaluate final model\n",
    "evaluation_results = predictor.evaluate(X_test, y_test, selected_features)\n",
    "\n",
    "print(\"Model Comparison:\")\n",
    "print(\"-\" * 50)\n",
    "print(f\"Baseline Model Accuracy: {baseline_accuracy:.4f}\")\n",
    "print(f\"GA-Optimized Model Accuracy: {evaluation_results['accuracy']:.4f}\")\n",
    "print(f\"Improvement: {(evaluation_results['accuracy'] - baseline_accuracy):.4f}\")\n",
    "\n",
    "print(\"\\nGA-Optimized Model Classification Report:\")\n",
    "print(evaluation_results['classification_report'])\n",
    "\n",
    "# Plot results\n",
    "plot_results(fitness_history, baseline_accuracy, evaluation_results['accuracy'])\n",
    "\n",
    "# Plot confusion matrices\n",
    "fig, (ax1, ax2) = plt.subplots(1, 2, figsize=(12, 5))\n",
    "\n",
    "sns.heatmap(confusion_matrix(y_test, baseline_pred), annot=True, fmt='d', ax=ax1)\n",
    "ax1.set_title('Baseline Model\\nConfusion Matrix')\n",
    "ax1.set_xlabel('Predicted')\n",
    "ax1.set_ylabel('Actual')\n",
    "\n",
    "sns.heatmap(evaluation_results['confusion_matrix'], annot=True, fmt='d', ax=ax2)\n",
    "ax2.set_title('GA-Optimized Model\\nConfusion Matrix')\n",
    "ax2.set_xlabel('Predicted')\n",
    "ax2.set_ylabel('Actual')\n",
    "\n",
    "plt.tight_layout()\n",
    "plt.show()"
   ]
  },
  {
   "cell_type": "markdown",
   "id": "1533e1d9",
   "metadata": {},
   "source": [
    "## 7. Conclusion\n",
    "\n",
    "The Genetic Algorithm has successfully selected the most important features for predicting customer churn. Key findings:\n",
    "\n",
    "1. Feature Selection:\n",
    "   - The GA reduced the number of features while maintaining or improving prediction accuracy\n",
    "   - Selected features represent the most important factors in predicting churn\n",
    "\n",
    "2. Model Performance:\n",
    "   - The GA-optimized model shows improved accuracy compared to the baseline\n",
    "   - The confusion matrix shows better classification of both churned and non-churned customers\n",
    "\n",
    "3. Business Impact:\n",
    "   - The selected features provide insights into the main factors driving customer churn\n",
    "   - The improved model can better identify at-risk customers for retention efforts\n",
    "   - Reduced feature set makes the model more interpretable and efficient"
   ]
  }
 ],
 "metadata": {
  "language_info": {
   "name": "python"
  }
 },
 "nbformat": 4,
 "nbformat_minor": 5
}
